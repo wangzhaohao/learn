{
 "cells": [
  {
   "cell_type": "code",
   "execution_count": null,
   "metadata": {},
   "outputs": [],
   "source": [
    "properties = [\n",
    "  'F',\n",
    "  'dF/da',\n",
    "  'dF/db',\n",
    "  'dF/dc',\n",
    "  'd^2F/da^2',\n",
    "  'd^2F/dadb',\n",
    "  'd^2F/dadc',\n",
    "  'd^2F/db^2',\n",
    "  'd^2F/dbdc',\n",
    "  'd^2F/dc^2',\n",
    "  'd^3F/da^2db',\n",
    "  'd^3F/da^2dc',\n",
    "  'd^3F/da^3',\n",
    "  'd^3F/dadb^2',\n",
    "  'd^3F/dadbdc',\n",
    "  'd^3F/dadc^2',\n",
    "  'd^3F/db^2dc',\n",
    "  'd^3F/db^3',\n",
    "  'd^3F/dbdc^2',\n",
    "  'd^3F/dc^3'\n",
    "]"
   ]
  },
  {
   "cell_type": "code",
   "execution_count": null,
   "metadata": {},
   "outputs": [],
   "source": [
    "print(\"  [L2_difference]\")\n",
    "print(\"    type = ParsedMaterial\")\n",
    "\n",
    "expression = []\n",
    "material_properties = []\n",
    "\n",
    "i = 0\n",
    "for fprop in properties:\n",
    "  gprop = fprop.replace('F', 'G')\n",
    "  fname = 'f%d' % i\n",
    "  gname = 'g%d' % i\n",
    "  i += 1\n",
    "  \n",
    "  expression.append(f\"({fname}-{gname})^2\")\n",
    "  material_properties.append(f\"{fname}:={fprop}\")\n",
    "  material_properties.append(f\"{gname}:={gprop}\")\n",
    "\n",
    "print(\"    expression = '\" + \"+\".join(expression) + \"'\")  \n",
    "print(\"    material_property_names = '\" + \" \".join(material_properties) + \"'\")  \n",
    "print(\"    property_name = L2\")\n",
    "print(\"  []\")\n"
   ]
  }
 ],
 "metadata": {
  "kernelspec": {
   "display_name": "jupyter",
   "language": "python",
   "name": "python3"
  },
  "language_info": {
   "codemirror_mode": {
    "name": "ipython",
    "version": 3
   },
   "file_extension": ".py",
   "mimetype": "text/x-python",
   "name": "python",
   "nbconvert_exporter": "python",
   "pygments_lexer": "ipython3",
   "version": "3.10.6"
  },
  "orig_nbformat": 4
 },
 "nbformat": 4,
 "nbformat_minor": 2
}
