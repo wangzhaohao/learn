{
 "cells": [
  {
   "cell_type": "code",
   "execution_count": null,
   "metadata": {},
   "outputs": [],
   "source": [
    "import math\n",
    "import random\n",
    "import numpy as np\n",
    "import matplotlib.pyplot as plt\n",
    "from scipy.optimize import curve_fit\n",
    "from scipy.stats import multivariate_normal"
   ]
  },
  {
   "cell_type": "code",
   "execution_count": null,
   "metadata": {},
   "outputs": [],
   "source": [
    "# function to fit\n",
    "def func(x, a, b, c):\n",
    "    return a + b*x + c*x**2\n",
    "\n",
    "# derivatives w.r.t. the fitting parameters\n",
    "def dafunc(x, a, b, c):\n",
    "    return 1\n",
    "def dbfunc(x, a, b, c):\n",
    "    return x\n",
    "def dcfunc(x, a, b, c):\n",
    "    return x**2"
   ]
  },
  {
   "cell_type": "code",
   "execution_count": null,
   "metadata": {},
   "outputs": [],
   "source": [
    "# generate fitting data\n",
    "ydata = []\n",
    "npoints = 400\n",
    "\n",
    "# prescribe parameters and covariance matrix\n",
    "popt = np.array([1, 3, 4])\n",
    "pcov = np.array([[3, -1, 0.15],\n",
    "                 [-1, 1.3, -0.25],\n",
    "                 [0.15, -0.25, 1]])\n",
    "\n",
    "# sample a multivariate normal distribution from the covariance matrix\n",
    "dist = multivariate_normal(mean=popt, cov=pcov, allow_singular = True)\n",
    "params = dist.rvs(size=npoints)\n",
    "\n",
    "# compute randomized data\n",
    "xdata = np.linspace(0, 4, npoints)\n",
    "for i in range(npoints):\n",
    "  y = func(xdata[i], *params[i])\n",
    "  ydata.append(y)\n",
    "ydata = np.array(ydata)\n",
    "\n",
    "# plot data and fit\n",
    "plt.plot(xdata, ydata, 'b.', label='data')\n",
    "plt.plot(xdata, func(xdata, *popt), 'r-',\n",
    "         label='fit: a=%5.3f, b=%5.3f, c=%5.3f' % tuple(popt))\n",
    "plt.xlabel('x')\n",
    "plt.ylabel('y')\n",
    "plt.legend()\n",
    "plt.show()"
   ]
  },
  {
   "cell_type": "code",
   "execution_count": null,
   "metadata": {},
   "outputs": [],
   "source": [
    "# Simple linear regression does not recover the covariance matrix. TODO: try maximim likelihood optimization\n",
    "if False:\n",
    "  popt, pcov = curve_fit(func, xdata, ydata, p0 = popt )\n",
    "\n",
    "  chi = (ydata - func(xdata, *popt))\n",
    "  chi2 = (chi ** 2).sum()\n",
    "  dof = len(xdata) - len(popt)\n",
    "  factor = (chi2 / dof)\n",
    "\n",
    "  pcov *= factor\n",
    "\n",
    "popt, pcov\n"
   ]
  },
  {
   "cell_type": "code",
   "execution_count": null,
   "metadata": {},
   "outputs": [],
   "source": [
    "# sample parameter sets using the covariance matrix\n",
    "dist = multivariate_normal(mean=popt, cov=pcov, allow_singular = True)\n",
    "samples = dist.rvs(size=1000)\n",
    "\n",
    "# plot function realizations for all sampled parameter sets\n",
    "for sample in samples:\n",
    "  plt.plot(xdata, func(xdata, *sample), 'r-', alpha=0.01)\n",
    "plt.plot(xdata, ydata, 'b.', label='data')\n",
    "\n",
    "plt.xlabel('x')\n",
    "plt.ylabel('y')\n",
    "plt.legend()\n",
    "plt.show()"
   ]
  },
  {
   "cell_type": "code",
   "execution_count": null,
   "metadata": {},
   "outputs": [],
   "source": [
    "# compute standard deviation at x using the covariance matrix\n",
    "def error(x, a, b, c, cov):\n",
    "    C = np.array(cov)\n",
    "\n",
    "    #return a + b*x + c*x**2\n",
    "    def f(x, a,b,c):\n",
    "        d = np.array([dafunc(x, a, b, c), \n",
    "                      dbfunc(x, a, b, c), \n",
    "                      dcfunc(x, a, b, c)])\n",
    "        \n",
    "        # return np.matmul(np.matmul(d.T, C), d)\n",
    "        return np.matmul(d, np.matmul(C, d))\n",
    "    \n",
    "    return np.sqrt(np.array([f(xi, *popt) for xi in x]))"
   ]
  },
  {
   "cell_type": "code",
   "execution_count": null,
   "metadata": {},
   "outputs": [],
   "source": [
    "# plot the function\n",
    "plt.plot(xdata, func(xdata, *popt), 'r-')\n",
    "\n",
    "# two standard deviations\n",
    "plt.plot(xdata, func(xdata, *popt) - 2 * error(xdata, *popt, pcov), 'r--')\n",
    "plt.plot(xdata, func(xdata, *popt) + 2 * error(xdata, *popt, pcov), 'r--')\n",
    "\n",
    "# plot the data\n",
    "plt.plot(xdata, ydata, 'b.', label='data')\n",
    "\n",
    "plt.xlabel('x')\n",
    "plt.ylabel('y')\n",
    "plt.legend()\n",
    "plt.show()"
   ]
  },
  {
   "cell_type": "code",
   "execution_count": null,
   "metadata": {},
   "outputs": [],
   "source": []
  }
 ],
 "metadata": {
  "kernelspec": {
   "display_name": "jupyter",
   "language": "python",
   "name": "python3"
  },
  "language_info": {
   "codemirror_mode": {
    "name": "ipython",
    "version": 3
   },
   "file_extension": ".py",
   "mimetype": "text/x-python",
   "name": "python",
   "nbconvert_exporter": "python",
   "pygments_lexer": "ipython3",
   "version": "3.10.6"
  },
  "orig_nbformat": 4
 },
 "nbformat": 4,
 "nbformat_minor": 2
}
